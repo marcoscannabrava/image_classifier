{
 "cells": [
  {
   "cell_type": "code",
   "execution_count": null,
   "metadata": {},
   "outputs": [],
   "source": [
    "%load_ext tensorboard\n",
    "\n",
    "from model import Net, train\n",
    "from data import *\n",
    "from utils import imshow"
   ]
  },
  {
   "cell_type": "code",
   "execution_count": null,
   "metadata": {},
   "outputs": [],
   "source": [
    "from distributed_setup import run\n",
    "from itertools import product\n",
    "\n",
    "HP_BATCH_SIZE = [100,1000,5000]\n",
    "HP_NUM_WORKERS = [0,4,8,16]\n",
    "\n",
    "\n",
    "model = Net()\n",
    "\n",
    "for batch_size, num_workers in product(HP_BATCH_SIZE, HP_NUM_WORKERS):\n",
    "  run(\n",
    "      model,\n",
    "      train,\n",
    "      trainset,\n",
    "      {'batch_size': batch_size, 'num_workers': num_workers}\n",
    "  )"
   ]
  },
  {
   "cell_type": "code",
   "execution_count": null,
   "metadata": {},
   "outputs": [],
   "source": [
    "import torch\n",
    "from model import test\n",
    "\n",
    "PATH = './cifar_net_gpu_distributed.pth'\n",
    "\n",
    "\n",
    "dataiter = iter(testloader)\n",
    "images, labels = next(dataiter)\n",
    "\n",
    "imshow(torchvision.utils.make_grid(images))\n",
    "print('GroundTruth: ', ' '.join(f'{classes[labels[j]]:5s}' for j in range(4)))\n",
    "\n",
    "reloaded_model = Net()\n",
    "reloaded_model.load_state_dict(torch.load(PATH))\n",
    "\n",
    "outputs = reloaded_model(images)\n",
    "\n",
    "_, predicted = torch.max(outputs, 1)\n",
    "\n",
    "print('Predicted: ', ' '.join(f'{classes[predicted[j]]:5s}' for j in range(4)))\n",
    "\n",
    "test(reloaded_model)"
   ]
  }
 ],
 "metadata": {
  "kernelspec": {
   "display_name": "Python 3",
   "language": "python",
   "name": "python3"
  },
  "language_info": {
   "codemirror_mode": {
    "name": "ipython",
    "version": 3
   },
   "file_extension": ".py",
   "mimetype": "text/x-python",
   "name": "python",
   "nbconvert_exporter": "python",
   "pygments_lexer": "ipython3",
   "version": "3.10.11"
  }
 },
 "nbformat": 4,
 "nbformat_minor": 4
}
