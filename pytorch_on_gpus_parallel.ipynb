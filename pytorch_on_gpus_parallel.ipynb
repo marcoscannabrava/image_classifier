{
 "cells": [
  {
   "cell_type": "code",
   "execution_count": 1,
   "metadata": {},
   "outputs": [
    {
     "name": "stdout",
     "output_type": "stream",
     "text": [
      "Files already downloaded and verified\n",
      "Files already downloaded and verified\n"
     ]
    },
    {
     "name": "stderr",
     "output_type": "stream",
     "text": [
      "2023-06-26 22:18:56.753137: I tensorflow/core/util/port.cc:110] oneDNN custom operations are on. You may see slightly different numerical results due to floating-point round-off errors from different computation orders. To turn them off, set the environment variable `TF_ENABLE_ONEDNN_OPTS=0`.\n",
      "2023-06-26 22:18:56.938044: I tensorflow/core/platform/cpu_feature_guard.cc:182] This TensorFlow binary is optimized to use available CPU instructions in performance-critical operations.\n",
      "To enable the following instructions: AVX2 AVX512F AVX512_VNNI FMA, in other operations, rebuild TensorFlow with the appropriate compiler flags.\n",
      "2023-06-26 22:18:57.887137: W tensorflow/compiler/tf2tensorrt/utils/py_utils.cc:38] TF-TRT Warning: Could not find TensorRT\n"
     ]
    },
    {
     "data": {
      "image/png": "[encoded data removed]",
      "text/plain": [
       "<Figure size 640x480 with 1 Axes>"
      ]
     },
     "metadata": {},
     "output_type": "display_data"
    },
    {
     "name": "stdout",
     "output_type": "stream",
     "text": [
      "cat   frog  frog  dog  \n"
     ]
    }
   ],
   "source": [
    "%load_ext tensorboard\n",
    "\n",
    "from model import Net, train\n",
    "from data import *\n",
    "from utils import imshow"
   ]
  },
  {
   "cell_type": "code",
   "execution_count": 2,
   "metadata": {},
   "outputs": [
    {
     "name": "stdout",
     "output_type": "stream",
     "text": [
      "Running on  4 cuda:0\n"
     ]
    },
    {
     "name": "stderr",
     "output_type": "stream",
     "text": [
      "2023-06-26 22:19:10.793099: W tensorflow/compiler/tf2tensorrt/utils/py_utils.cc:38] TF-TRT Warning: Could not find TensorRT\n"
     ]
    },
    {
     "name": "stdout",
     "output_type": "stream",
     "text": [
      "Files already downloaded and verified\n",
      "Files already downloaded and verified\n",
      "distributed_training on: 0\n"
     ]
    },
    {
     "name": "stderr",
     "output_type": "stream",
     "text": [
      "2023-06-26 22:19:16.861498: W tensorflow/compiler/tf2tensorrt/utils/py_utils.cc:38] TF-TRT Warning: Could not find TensorRT\n"
     ]
    },
    {
     "name": "stdout",
     "output_type": "stream",
     "text": [
      "Files already downloaded and verified\n",
      "Files already downloaded and verified\n",
      "distributed_training on: 1\n"
     ]
    },
    {
     "name": "stderr",
     "output_type": "stream",
     "text": [
      "2023-06-26 22:19:22.983955: W tensorflow/compiler/tf2tensorrt/utils/py_utils.cc:38] TF-TRT Warning: Could not find TensorRT\n"
     ]
    },
    {
     "name": "stdout",
     "output_type": "stream",
     "text": [
      "Files already downloaded and verified\n",
      "Files already downloaded and verified\n",
      "distributed_training on: 2\n"
     ]
    },
    {
     "name": "stderr",
     "output_type": "stream",
     "text": [
      "2023-06-26 22:19:29.174924: W tensorflow/compiler/tf2tensorrt/utils/py_utils.cc:38] TF-TRT Warning: Could not find TensorRT\n"
     ]
    },
    {
     "name": "stdout",
     "output_type": "stream",
     "text": [
      "Files already downloaded and verified\n",
      "Files already downloaded and verified\n",
      "distributed_training on: 3\n",
      "[1,  2000] loss: 2.187\n",
      "[1,  2000] loss: 2.173\n",
      "[1,  2000] loss: 2.184\n",
      "[1,  2000] loss: 2.187\n",
      "[1,  4000] loss: 1.860\n",
      "[1,  4000] loss: 1.830[1,  4000] loss: 1.832\n",
      "\n",
      "[1,  4000] loss: 1.832\n",
      "[1,  6000] loss: 1.664[1,  6000] loss: 1.675[1,  6000] loss: 1.652\n",
      "\n",
      "\n",
      "[1,  6000] loss: 1.683\n",
      "[1,  8000] loss: 1.546[1,  8000] loss: 1.528\n",
      "[1,  8000] loss: 1.580\n",
      "\n",
      "[1,  8000] loss: 1.581\n",
      "[1, 10000] loss: 1.529\n",
      "[1, 10000] loss: 1.490[1, 10000] loss: 1.495\n",
      "\n",
      "[1, 10000] loss: 1.493\n",
      "[1, 12000] loss: 1.455[1, 12000] loss: 1.527[1, 12000] loss: 1.443\n",
      "\n",
      "\n",
      "[1, 12000] loss: 1.409\n",
      "[2,  2000] loss: 1.753\n",
      "[2,  2000] loss: 1.734\n",
      "[2,  2000] loss: 1.777\n",
      "[2,  2000] loss: 1.743\n",
      "[2,  4000] loss: 1.384\n",
      "[2,  4000] loss: 1.351\n",
      "[2,  4000] loss: 1.331\n",
      "[2,  4000] loss: 1.354\n",
      "[2,  6000] loss: 1.328\n",
      "[2,  6000] loss: 1.393\n",
      "[2,  6000] loss: 1.312\n",
      "[2,  6000] loss: 1.356\n",
      "[2,  8000] loss: 1.330[2,  8000] loss: 1.352\n",
      "\n",
      "[2,  8000] loss: 1.332\n",
      "[2,  8000] loss: 1.326\n",
      "[2, 10000] loss: 1.323\n",
      "[2, 10000] loss: 1.301\n",
      "[2, 10000] loss: 1.270[2, 10000] loss: 1.281\n",
      "\n",
      "[2, 12000] loss: 1.312\n",
      "[2, 12000] loss: 1.284\n",
      "[2, 12000] loss: 1.260[2, 12000] loss: 1.260\n",
      "\n",
      "Finished Training\n",
      "Finished TrainingFinished Training\n",
      "\n",
      "Finished Training\n",
      "Running on  4 cuda:0\n"
     ]
    },
    {
     "name": "stderr",
     "output_type": "stream",
     "text": [
      "2023-06-26 22:20:37.570816: W tensorflow/compiler/tf2tensorrt/utils/py_utils.cc:38] TF-TRT Warning: Could not find TensorRT\n"
     ]
    },
    {
     "name": "stdout",
     "output_type": "stream",
     "text": [
      "Files already downloaded and verified\n",
      "Files already downloaded and verified\n",
      "distributed_training on: 0\n"
     ]
    },
    {
     "name": "stderr",
     "output_type": "stream",
     "text": [
      "2023-06-26 22:20:43.718232: W tensorflow/compiler/tf2tensorrt/utils/py_utils.cc:38] TF-TRT Warning: Could not find TensorRT\n"
     ]
    },
    {
     "name": "stdout",
     "output_type": "stream",
     "text": [
      "Files already downloaded and verified\n",
      "Files already downloaded and verified\n",
      "distributed_training on: 1\n"
     ]
    },
    {
     "name": "stderr",
     "output_type": "stream",
     "text": [
      "2023-06-26 22:20:49.847143: W tensorflow/compiler/tf2tensorrt/utils/py_utils.cc:38] TF-TRT Warning: Could not find TensorRT\n"
     ]
    },
    {
     "name": "stdout",
     "output_type": "stream",
     "text": [
      "Files already downloaded and verified\n",
      "Files already downloaded and verified\n",
      "distributed_training on: 2\n"
     ]
    },
    {
     "name": "stderr",
     "output_type": "stream",
     "text": [
      "2023-06-26 22:20:55.983217: W tensorflow/compiler/tf2tensorrt/utils/py_utils.cc:38] TF-TRT Warning: Could not find TensorRT\n"
     ]
    },
    {
     "name": "stdout",
     "output_type": "stream",
     "text": [
      "Files already downloaded and verified\n",
      "Files already downloaded and verified\n",
      "distributed_training on: 3\n",
      "[1,  2000] loss: 2.173[1,  2000] loss: 2.187[1,  2000] loss: 2.184\n",
      "\n",
      "\n",
      "[1,  2000] loss: 2.187\n",
      "[1,  4000] loss: 1.860[1,  4000] loss: 1.832[1,  4000] loss: 1.830\n",
      "\n",
      "\n",
      "[1,  4000] loss: 1.832\n",
      "[1,  6000] loss: 1.664\n",
      "[1,  6000] loss: 1.652\n",
      "[1,  6000] loss: 1.675\n",
      "[1,  6000] loss: 1.683\n",
      "[1,  8000] loss: 1.546[1,  8000] loss: 1.581[1,  8000] loss: 1.528\n",
      "\n",
      "\n",
      "[1,  8000] loss: 1.580\n",
      "[1, 10000] loss: 1.490[1, 10000] loss: 1.529\n",
      "\n",
      "[1, 10000] loss: 1.495\n",
      "[1, 10000] loss: 1.493\n",
      "[1, 12000] loss: 1.409[1, 12000] loss: 1.455\n",
      "\n",
      "[1, 12000] loss: 1.527\n",
      "[1, 12000] loss: 1.443\n",
      "[2,  2000] loss: 1.753\n",
      "[2,  2000] loss: 1.743[2,  2000] loss: 1.734\n",
      "\n",
      "[2,  2000] loss: 1.777\n",
      "[2,  4000] loss: 1.354\n",
      "[2,  4000] loss: 1.384[2,  4000] loss: 1.331\n",
      "\n",
      "[2,  4000] loss: 1.351\n",
      "[2,  6000] loss: 1.328[2,  6000] loss: 1.312[2,  6000] loss: 1.356\n",
      "\n",
      "\n",
      "[2,  6000] loss: 1.393\n",
      "[2,  8000] loss: 1.330[2,  8000] loss: 1.326[2,  8000] loss: 1.352\n",
      "\n",
      "\n",
      "[2,  8000] loss: 1.332\n",
      "[2, 10000] loss: 1.270[2, 10000] loss: 1.323\n",
      "\n",
      "[2, 10000] loss: 1.281\n",
      "[2, 10000] loss: 1.301\n",
      "[2, 12000] loss: 1.260[2, 12000] loss: 1.284\n",
      "\n",
      "[2, 12000] loss: 1.260[2, 12000] loss: 1.312\n",
      "\n",
      "Finished Training\n",
      "Finished Training\n",
      "Finished Training\n",
      "Finished Training\n",
      "Running on  4 cuda:0\n"
     ]
    },
    {
     "name": "stderr",
     "output_type": "stream",
     "text": [
      "2023-06-26 22:22:24.353649: W tensorflow/compiler/tf2tensorrt/utils/py_utils.cc:38] TF-TRT Warning: Could not find TensorRT\n"
     ]
    },
    {
     "name": "stdout",
     "output_type": "stream",
     "text": [
      "Files already downloaded and verified\n",
      "Files already downloaded and verified\n",
      "distributed_training on: 0\n"
     ]
    },
    {
     "name": "stderr",
     "output_type": "stream",
     "text": [
      "2023-06-26 22:22:30.502464: W tensorflow/compiler/tf2tensorrt/utils/py_utils.cc:38] TF-TRT Warning: Could not find TensorRT\n"
     ]
    },
    {
     "name": "stdout",
     "output_type": "stream",
     "text": [
      "Files already downloaded and verified\n",
      "Files already downloaded and verified\n",
      "distributed_training on: 1\n"
     ]
    },
    {
     "name": "stderr",
     "output_type": "stream",
     "text": [
      "2023-06-26 22:22:36.632294: W tensorflow/compiler/tf2tensorrt/utils/py_utils.cc:38] TF-TRT Warning: Could not find TensorRT\n"
     ]
    },
    {
     "name": "stdout",
     "output_type": "stream",
     "text": [
      "Files already downloaded and verified\n",
      "Files already downloaded and verified\n",
      "distributed_training on: 2\n"
     ]
    },
    {
     "name": "stderr",
     "output_type": "stream",
     "text": [
      "2023-06-26 22:22:42.818920: W tensorflow/compiler/tf2tensorrt/utils/py_utils.cc:38] TF-TRT Warning: Could not find TensorRT\n"
     ]
    },
    {
     "name": "stdout",
     "output_type": "stream",
     "text": [
      "Files already downloaded and verified\n",
      "Files already downloaded and verified\n",
      "distributed_training on: 3\n",
      "[1,  2000] loss: 2.184[1,  2000] loss: 2.173\n",
      "\n",
      "[1,  2000] loss: 2.187\n",
      "[1,  2000] loss: 2.187\n",
      "[1,  4000] loss: 1.832[1,  4000] loss: 1.832[1,  4000] loss: 1.860\n",
      "\n",
      "\n",
      "[1,  4000] loss: 1.830\n",
      "[1,  6000] loss: 1.683[1,  6000] loss: 1.652[1,  6000] loss: 1.664\n",
      "\n",
      "\n",
      "[1,  6000] loss: 1.675\n",
      "[1,  8000] loss: 1.580\n",
      "[1,  8000] loss: 1.581[1,  8000] loss: 1.528\n",
      "\n",
      "[1,  8000] loss: 1.546\n",
      "[1, 10000] loss: 1.495\n",
      "[1, 10000] loss: 1.493\n",
      "[1, 10000] loss: 1.529\n",
      "[1, 10000] loss: 1.490\n",
      "[1, 12000] loss: 1.409[1, 12000] loss: 1.527\n",
      "\n",
      "[1, 12000] loss: 1.443\n",
      "[1, 12000] loss: 1.455\n",
      "[2,  2000] loss: 1.753\n",
      "[2,  2000] loss: 1.734[2,  2000] loss: 1.777\n",
      "\n",
      "[2,  2000] loss: 1.743\n",
      "[2,  4000] loss: 1.354[2,  4000] loss: 1.384[2,  4000] loss: 1.331\n",
      "\n",
      "\n",
      "[2,  4000] loss: 1.351\n",
      "[2,  6000] loss: 1.312[2,  6000] loss: 1.356\n",
      "\n",
      "[2,  6000] loss: 1.393\n",
      "[2,  6000] loss: 1.328\n",
      "[2,  8000] loss: 1.352[2,  8000] loss: 1.332[2,  8000] loss: 1.330\n",
      "\n",
      "\n",
      "[2,  8000] loss: 1.326\n",
      "[2, 10000] loss: 1.301[2, 10000] loss: 1.281\n",
      "\n",
      "[2, 10000] loss: 1.323[2, 10000] loss: 1.270\n",
      "\n",
      "[2, 12000] loss: 1.260\n",
      "[2, 12000] loss: 1.312\n",
      "[2, 12000] loss: 1.260\n",
      "[2, 12000] loss: 1.284\n",
      "Finished Training\n",
      "Finished Training\n",
      "Finished Training\n",
      "Finished Training\n",
      "Running on  4 cuda:0\n"
     ]
    },
    {
     "name": "stderr",
     "output_type": "stream",
     "text": [
      "2023-06-26 22:24:21.895661: W tensorflow/compiler/tf2tensorrt/utils/py_utils.cc:38] TF-TRT Warning: Could not find TensorRT\n"
     ]
    },
    {
     "name": "stdout",
     "output_type": "stream",
     "text": [
      "Files already downloaded and verified\n",
      "Files already downloaded and verified\n",
      "distributed_training on: 0\n"
     ]
    },
    {
     "name": "stderr",
     "output_type": "stream",
     "text": [
      "2023-06-26 22:24:28.076987: W tensorflow/compiler/tf2tensorrt/utils/py_utils.cc:38] TF-TRT Warning: Could not find TensorRT\n"
     ]
    },
    {
     "name": "stdout",
     "output_type": "stream",
     "text": [
      "Files already downloaded and verified\n",
      "Files already downloaded and verified\n",
      "distributed_training on: 1\n"
     ]
    },
    {
     "name": "stderr",
     "output_type": "stream",
     "text": [
      "2023-06-26 22:24:34.268059: W tensorflow/compiler/tf2tensorrt/utils/py_utils.cc:38] TF-TRT Warning: Could not find TensorRT\n"
     ]
    },
    {
     "name": "stdout",
     "output_type": "stream",
     "text": [
      "Files already downloaded and verified\n",
      "Files already downloaded and verified\n",
      "distributed_training on: 2\n"
     ]
    },
    {
     "name": "stderr",
     "output_type": "stream",
     "text": [
      "2023-06-26 22:24:40.445561: W tensorflow/compiler/tf2tensorrt/utils/py_utils.cc:38] TF-TRT Warning: Could not find TensorRT\n"
     ]
    },
    {
     "name": "stdout",
     "output_type": "stream",
     "text": [
      "Files already downloaded and verified\n",
      "Files already downloaded and verified\n",
      "distributed_training on: 3\n",
      "[1,  2000] loss: 2.173[1,  2000] loss: 2.187\n",
      "\n",
      "[1,  2000] loss: 2.184\n",
      "[1,  2000] loss: 2.187\n",
      "[1,  4000] loss: 1.832[1,  4000] loss: 1.860[1,  4000] loss: 1.830\n",
      "\n",
      "\n",
      "[1,  4000] loss: 1.832\n",
      "[1,  6000] loss: 1.675[1,  6000] loss: 1.652[1,  6000] loss: 1.664\n",
      "\n",
      "\n",
      "[1,  6000] loss: 1.683\n",
      "[1,  8000] loss: 1.580\n",
      "[1,  8000] loss: 1.581\n",
      "[1,  8000] loss: 1.528\n",
      "[1,  8000] loss: 1.546\n",
      "[1, 10000] loss: 1.529[1, 10000] loss: 1.495[1, 10000] loss: 1.490\n",
      "\n",
      "\n",
      "[1, 10000] loss: 1.493\n",
      "[1, 12000] loss: 1.455\n",
      "[1, 12000] loss: 1.527[1, 12000] loss: 1.443\n",
      "\n",
      "[1, 12000] loss: 1.409\n",
      "[2,  2000] loss: 1.777[2,  2000] loss: 1.734[2,  2000] loss: 1.743\n",
      "\n",
      "\n",
      "[2,  2000] loss: 1.753\n",
      "[2,  4000] loss: 1.384[2,  4000] loss: 1.331\n",
      "\n",
      "[2,  4000] loss: 1.351\n",
      "[2,  4000] loss: 1.354\n",
      "[2,  6000] loss: 1.393[2,  6000] loss: 1.328[2,  6000] loss: 1.312\n",
      "\n",
      "\n",
      "[2,  6000] loss: 1.356\n",
      "[2,  8000] loss: 1.326[2,  8000] loss: 1.330[2,  8000] loss: 1.332\n",
      "\n",
      "\n",
      "[2,  8000] loss: 1.352\n",
      "[2, 10000] loss: 1.301[2, 10000] loss: 1.281[2, 10000] loss: 1.323\n",
      "\n",
      "\n",
      "[2, 10000] loss: 1.270\n",
      "[2, 12000] loss: 1.312[2, 12000] loss: 1.260[2, 12000] loss: 1.260\n",
      "\n",
      "\n",
      "[2, 12000] loss: 1.284\n",
      "Finished Training\n",
      "Finished Training\n",
      "Finished Training\n",
      "Finished Training\n",
      "Running on  4 cuda:0\n"
     ]
    },
    {
     "name": "stderr",
     "output_type": "stream",
     "text": [
      "2023-06-26 22:26:27.603957: W tensorflow/compiler/tf2tensorrt/utils/py_utils.cc:38] TF-TRT Warning: Could not find TensorRT\n"
     ]
    },
    {
     "name": "stdout",
     "output_type": "stream",
     "text": [
      "Files already downloaded and verified\n",
      "Files already downloaded and verified\n",
      "distributed_training on: 0\n"
     ]
    },
    {
     "name": "stderr",
     "output_type": "stream",
     "text": [
      "2023-06-26 22:26:33.782494: W tensorflow/compiler/tf2tensorrt/utils/py_utils.cc:38] TF-TRT Warning: Could not find TensorRT\n"
     ]
    },
    {
     "name": "stdout",
     "output_type": "stream",
     "text": [
      "Files already downloaded and verified\n",
      "Files already downloaded and verified\n",
      "distributed_training on: 1\n"
     ]
    },
    {
     "name": "stderr",
     "output_type": "stream",
     "text": [
      "2023-06-26 22:26:39.998268: W tensorflow/compiler/tf2tensorrt/utils/py_utils.cc:38] TF-TRT Warning: Could not find TensorRT\n"
     ]
    },
    {
     "name": "stdout",
     "output_type": "stream",
     "text": [
      "Files already downloaded and verified\n",
      "Files already downloaded and verified\n",
      "distributed_training on: 2\n"
     ]
    },
    {
     "name": "stderr",
     "output_type": "stream",
     "text": [
      "2023-06-26 22:26:46.168897: W tensorflow/compiler/tf2tensorrt/utils/py_utils.cc:38] TF-TRT Warning: Could not find TensorRT\n"
     ]
    },
    {
     "name": "stdout",
     "output_type": "stream",
     "text": [
      "Files already downloaded and verified\n",
      "Files already downloaded and verified\n",
      "distributed_training on: 3\n",
      "Finished TrainingFinished Training\n",
      "\n",
      "Finished TrainingFinished Training\n",
      "\n",
      "Running on  4 cuda:0\n"
     ]
    },
    {
     "name": "stderr",
     "output_type": "stream",
     "text": [
      "2023-06-26 22:27:05.863588: W tensorflow/compiler/tf2tensorrt/utils/py_utils.cc:38] TF-TRT Warning: Could not find TensorRT\n"
     ]
    },
    {
     "name": "stdout",
     "output_type": "stream",
     "text": [
      "Files already downloaded and verified\n",
      "Files already downloaded and verified\n",
      "distributed_training on: 0\n"
     ]
    },
    {
     "name": "stderr",
     "output_type": "stream",
     "text": [
      "2023-06-26 22:27:11.998425: W tensorflow/compiler/tf2tensorrt/utils/py_utils.cc:38] TF-TRT Warning: Could not find TensorRT\n"
     ]
    },
    {
     "name": "stdout",
     "output_type": "stream",
     "text": [
      "Files already downloaded and verified\n",
      "Files already downloaded and verified\n",
      "distributed_training on: 1\n"
     ]
    },
    {
     "name": "stderr",
     "output_type": "stream",
     "text": [
      "2023-06-26 22:27:18.191172: W tensorflow/compiler/tf2tensorrt/utils/py_utils.cc:38] TF-TRT Warning: Could not find TensorRT\n"
     ]
    },
    {
     "name": "stdout",
     "output_type": "stream",
     "text": [
      "Files already downloaded and verified\n",
      "Files already downloaded and verified\n",
      "distributed_training on: 2\n"
     ]
    },
    {
     "name": "stderr",
     "output_type": "stream",
     "text": [
      "2023-06-26 22:27:24.402422: W tensorflow/compiler/tf2tensorrt/utils/py_utils.cc:38] TF-TRT Warning: Could not find TensorRT\n"
     ]
    },
    {
     "name": "stdout",
     "output_type": "stream",
     "text": [
      "Files already downloaded and verified\n",
      "Files already downloaded and verified\n",
      "distributed_training on: 3\n",
      "Finished Training\n",
      "Finished Training\n",
      "Finished Training\n",
      "Finished Training\n",
      "Running on  4 cuda:0\n"
     ]
    },
    {
     "name": "stderr",
     "output_type": "stream",
     "text": [
      "2023-06-26 22:27:50.843105: W tensorflow/compiler/tf2tensorrt/utils/py_utils.cc:38] TF-TRT Warning: Could not find TensorRT\n"
     ]
    },
    {
     "name": "stdout",
     "output_type": "stream",
     "text": [
      "Files already downloaded and verified\n",
      "Files already downloaded and verified\n",
      "distributed_training on: 0\n"
     ]
    },
    {
     "name": "stderr",
     "output_type": "stream",
     "text": [
      "2023-06-26 22:27:57.028997: W tensorflow/compiler/tf2tensorrt/utils/py_utils.cc:38] TF-TRT Warning: Could not find TensorRT\n"
     ]
    },
    {
     "name": "stdout",
     "output_type": "stream",
     "text": [
      "Files already downloaded and verified\n",
      "Files already downloaded and verified\n",
      "distributed_training on: 1\n"
     ]
    },
    {
     "name": "stderr",
     "output_type": "stream",
     "text": [
      "2023-06-26 22:28:03.239922: W tensorflow/compiler/tf2tensorrt/utils/py_utils.cc:38] TF-TRT Warning: Could not find TensorRT\n"
     ]
    },
    {
     "name": "stdout",
     "output_type": "stream",
     "text": [
      "Files already downloaded and verified\n",
      "Files already downloaded and verified\n",
      "distributed_training on: 2\n"
     ]
    },
    {
     "name": "stderr",
     "output_type": "stream",
     "text": [
      "2023-06-26 22:28:09.451336: W tensorflow/compiler/tf2tensorrt/utils/py_utils.cc:38] TF-TRT Warning: Could not find TensorRT\n"
     ]
    },
    {
     "name": "stdout",
     "output_type": "stream",
     "text": [
      "Files already downloaded and verified\n",
      "Files already downloaded and verified\n",
      "distributed_training on: 3\n",
      "Finished Training\n",
      "Finished Training\n",
      "Finished Training\n",
      "Finished Training\n",
      "Running on  4 cuda:0\n"
     ]
    },
    {
     "name": "stderr",
     "output_type": "stream",
     "text": [
      "2023-06-26 22:28:43.540892: W tensorflow/compiler/tf2tensorrt/utils/py_utils.cc:38] TF-TRT Warning: Could not find TensorRT\n"
     ]
    },
    {
     "name": "stdout",
     "output_type": "stream",
     "text": [
      "Files already downloaded and verified\n",
      "Files already downloaded and verified\n",
      "distributed_training on: 0\n"
     ]
    },
    {
     "name": "stderr",
     "output_type": "stream",
     "text": [
      "2023-06-26 22:28:49.712164: W tensorflow/compiler/tf2tensorrt/utils/py_utils.cc:38] TF-TRT Warning: Could not find TensorRT\n"
     ]
    },
    {
     "name": "stdout",
     "output_type": "stream",
     "text": [
      "Files already downloaded and verified\n",
      "Files already downloaded and verified\n",
      "distributed_training on: 1\n"
     ]
    },
    {
     "name": "stderr",
     "output_type": "stream",
     "text": [
      "2023-06-26 22:28:55.936570: W tensorflow/compiler/tf2tensorrt/utils/py_utils.cc:38] TF-TRT Warning: Could not find TensorRT\n"
     ]
    },
    {
     "name": "stdout",
     "output_type": "stream",
     "text": [
      "Files already downloaded and verified\n",
      "Files already downloaded and verified\n",
      "distributed_training on: 2\n"
     ]
    },
    {
     "name": "stderr",
     "output_type": "stream",
     "text": [
      "2023-06-26 22:29:02.130818: W tensorflow/compiler/tf2tensorrt/utils/py_utils.cc:38] TF-TRT Warning: Could not find TensorRT\n"
     ]
    },
    {
     "name": "stdout",
     "output_type": "stream",
     "text": [
      "Files already downloaded and verified\n",
      "Files already downloaded and verified\n",
      "distributed_training on: 3\n",
      "Finished Training\n",
      "Finished Training\n",
      "Finished Training\n",
      "Finished Training\n",
      "Running on  4 cuda:0\n"
     ]
    },
    {
     "name": "stderr",
     "output_type": "stream",
     "text": [
      "2023-06-26 22:29:44.503071: W tensorflow/compiler/tf2tensorrt/utils/py_utils.cc:38] TF-TRT Warning: Could not find TensorRT\n"
     ]
    },
    {
     "name": "stdout",
     "output_type": "stream",
     "text": [
      "Files already downloaded and verified\n",
      "Files already downloaded and verified\n",
      "distributed_training on: 0\n"
     ]
    },
    {
     "name": "stderr",
     "output_type": "stream",
     "text": [
      "2023-06-26 22:29:50.660676: W tensorflow/compiler/tf2tensorrt/utils/py_utils.cc:38] TF-TRT Warning: Could not find TensorRT\n"
     ]
    },
    {
     "name": "stdout",
     "output_type": "stream",
     "text": [
      "Files already downloaded and verified\n",
      "Files already downloaded and verified\n",
      "distributed_training on: 1\n"
     ]
    },
    {
     "name": "stderr",
     "output_type": "stream",
     "text": [
      "2023-06-26 22:29:56.836576: W tensorflow/compiler/tf2tensorrt/utils/py_utils.cc:38] TF-TRT Warning: Could not find TensorRT\n"
     ]
    },
    {
     "name": "stdout",
     "output_type": "stream",
     "text": [
      "Files already downloaded and verified\n",
      "Files already downloaded and verified\n",
      "distributed_training on: 2\n"
     ]
    },
    {
     "name": "stderr",
     "output_type": "stream",
     "text": [
      "2023-06-26 22:30:03.052495: W tensorflow/compiler/tf2tensorrt/utils/py_utils.cc:38] TF-TRT Warning: Could not find TensorRT\n"
     ]
    },
    {
     "name": "stdout",
     "output_type": "stream",
     "text": [
      "Files already downloaded and verified\n",
      "Files already downloaded and verified\n",
      "distributed_training on: 3\n",
      "Finished TrainingFinished TrainingFinished TrainingFinished Training\n",
      "\n",
      "\n",
      "\n",
      "Running on  4 cuda:0\n"
     ]
    },
    {
     "name": "stderr",
     "output_type": "stream",
     "text": [
      "2023-06-26 22:30:22.751808: W tensorflow/compiler/tf2tensorrt/utils/py_utils.cc:38] TF-TRT Warning: Could not find TensorRT\n"
     ]
    },
    {
     "name": "stdout",
     "output_type": "stream",
     "text": [
      "Files already downloaded and verified\n",
      "Files already downloaded and verified\n",
      "distributed_training on: 0\n"
     ]
    },
    {
     "name": "stderr",
     "output_type": "stream",
     "text": [
      "2023-06-26 22:30:28.923831: W tensorflow/compiler/tf2tensorrt/utils/py_utils.cc:38] TF-TRT Warning: Could not find TensorRT\n"
     ]
    },
    {
     "name": "stdout",
     "output_type": "stream",
     "text": [
      "Files already downloaded and verified\n",
      "Files already downloaded and verified\n",
      "distributed_training on: 1\n"
     ]
    },
    {
     "name": "stderr",
     "output_type": "stream",
     "text": [
      "2023-06-26 22:30:35.099735: W tensorflow/compiler/tf2tensorrt/utils/py_utils.cc:38] TF-TRT Warning: Could not find TensorRT\n"
     ]
    },
    {
     "name": "stdout",
     "output_type": "stream",
     "text": [
      "Files already downloaded and verified\n",
      "Files already downloaded and verified\n",
      "distributed_training on: 2\n"
     ]
    },
    {
     "name": "stderr",
     "output_type": "stream",
     "text": [
      "2023-06-26 22:30:41.309793: W tensorflow/compiler/tf2tensorrt/utils/py_utils.cc:38] TF-TRT Warning: Could not find TensorRT\n"
     ]
    },
    {
     "name": "stdout",
     "output_type": "stream",
     "text": [
      "Files already downloaded and verified\n",
      "Files already downloaded and verified\n",
      "distributed_training on: 3\n",
      "Finished Training\n",
      "Finished Training\n",
      "Finished Training\n",
      "Finished Training\n",
      "Running on  4 cuda:0\n"
     ]
    },
    {
     "name": "stderr",
     "output_type": "stream",
     "text": [
      "2023-06-26 22:31:07.717395: W tensorflow/compiler/tf2tensorrt/utils/py_utils.cc:38] TF-TRT Warning: Could not find TensorRT\n"
     ]
    },
    {
     "name": "stdout",
     "output_type": "stream",
     "text": [
      "Files already downloaded and verified\n",
      "Files already downloaded and verified\n",
      "distributed_training on: 0\n"
     ]
    },
    {
     "name": "stderr",
     "output_type": "stream",
     "text": [
      "2023-06-26 22:31:13.880083: W tensorflow/compiler/tf2tensorrt/utils/py_utils.cc:38] TF-TRT Warning: Could not find TensorRT\n"
     ]
    },
    {
     "name": "stdout",
     "output_type": "stream",
     "text": [
      "Files already downloaded and verified\n",
      "Files already downloaded and verified\n",
      "distributed_training on: 1\n"
     ]
    },
    {
     "name": "stderr",
     "output_type": "stream",
     "text": [
      "2023-06-26 22:31:20.088021: W tensorflow/compiler/tf2tensorrt/utils/py_utils.cc:38] TF-TRT Warning: Could not find TensorRT\n"
     ]
    },
    {
     "name": "stdout",
     "output_type": "stream",
     "text": [
      "Files already downloaded and verified\n",
      "Files already downloaded and verified\n",
      "distributed_training on: 2\n"
     ]
    },
    {
     "name": "stderr",
     "output_type": "stream",
     "text": [
      "2023-06-26 22:31:26.270697: W tensorflow/compiler/tf2tensorrt/utils/py_utils.cc:38] TF-TRT Warning: Could not find TensorRT\n"
     ]
    },
    {
     "name": "stdout",
     "output_type": "stream",
     "text": [
      "Files already downloaded and verified\n",
      "Files already downloaded and verified\n",
      "distributed_training on: 3\n",
      "Finished Training\n",
      "Finished Training\n",
      "Finished Training\n",
      "Finished Training\n",
      "Running on  4 cuda:0\n"
     ]
    },
    {
     "name": "stderr",
     "output_type": "stream",
     "text": [
      "2023-06-26 22:31:59.951475: W tensorflow/compiler/tf2tensorrt/utils/py_utils.cc:38] TF-TRT Warning: Could not find TensorRT\n"
     ]
    },
    {
     "name": "stdout",
     "output_type": "stream",
     "text": [
      "Files already downloaded and verified\n",
      "Files already downloaded and verified\n",
      "distributed_training on: 0\n"
     ]
    },
    {
     "name": "stderr",
     "output_type": "stream",
     "text": [
      "2023-06-26 22:32:06.094774: W tensorflow/compiler/tf2tensorrt/utils/py_utils.cc:38] TF-TRT Warning: Could not find TensorRT\n"
     ]
    },
    {
     "name": "stdout",
     "output_type": "stream",
     "text": [
      "Files already downloaded and verified\n",
      "Files already downloaded and verified\n",
      "distributed_training on: 1\n"
     ]
    },
    {
     "name": "stderr",
     "output_type": "stream",
     "text": [
      "2023-06-26 22:32:12.265574: W tensorflow/compiler/tf2tensorrt/utils/py_utils.cc:38] TF-TRT Warning: Could not find TensorRT\n"
     ]
    },
    {
     "name": "stdout",
     "output_type": "stream",
     "text": [
      "Files already downloaded and verified\n",
      "Files already downloaded and verified\n",
      "distributed_training on: 2\n"
     ]
    },
    {
     "name": "stderr",
     "output_type": "stream",
     "text": [
      "2023-06-26 22:32:18.462537: W tensorflow/compiler/tf2tensorrt/utils/py_utils.cc:38] TF-TRT Warning: Could not find TensorRT\n"
     ]
    },
    {
     "name": "stdout",
     "output_type": "stream",
     "text": [
      "Files already downloaded and verified\n",
      "Files already downloaded and verified\n",
      "distributed_training on: 3\n",
      "Finished Training\n",
      "Finished Training\n",
      "Finished Training\n",
      "Finished Training\n"
     ]
    }
   ],
   "source": [
    "from distributed_setup import run\n",
    "from itertools import product\n",
    "\n",
    "HP_BATCH_SIZE = [1,500,1000]\n",
    "HP_NUM_WORKERS = [0,2,4,6]\n",
    "METRIC_ACCURACY = 'accuracy'\n",
    "METRIC_RUNTIME = 'runtime'\n",
    "\n",
    "model = Net()\n",
    "\n",
    "for batch_size, num_workers in product(HP_BATCH_SIZE, HP_NUM_WORKERS):\n",
    "  run(\n",
    "      model,\n",
    "      train,\n",
    "      trainset,\n",
    "      {'batch_size': batch_size, 'num_workers': num_workers}\n",
    "  )"
   ]
  },
  {
   "cell_type": "code",
   "execution_count": 3,
   "metadata": {},
   "outputs": [
    {
     "data": {
      "image/png": "[encoded data removed]",
      "text/plain": [
       "<Figure size 640x480 with 1 Axes>"
      ]
     },
     "metadata": {},
     "output_type": "display_data"
    },
    {
     "name": "stdout",
     "output_type": "stream",
     "text": [
      "GroundTruth:  cat   ship  ship  plane\n",
      "Predicted:  cat   cat   cat   cat  \n",
      "Accuracy of the network on the 10000 test images: 10 %\n",
      "Accuracy for class: plane is 2.8 %\n",
      "Accuracy for class: car   is 0.0 %\n",
      "Accuracy for class: bird  is 0.0 %\n",
      "Accuracy for class: cat   is 97.6 %\n",
      "Accuracy for class: deer  is 0.0 %\n",
      "Accuracy for class: dog   is 0.0 %\n",
      "Accuracy for class: frog  is 0.0 %\n",
      "Accuracy for class: horse is 0.0 %\n",
      "Accuracy for class: ship  is 0.0 %\n",
      "Accuracy for class: truck is 0.0 %\n"
     ]
    }
   ],
   "source": [
    "import torch\n",
    "from model import test\n",
    "\n",
    "PATH = './cifar_net_gpu_distributed.pth'\n",
    "\n",
    "\n",
    "dataiter = iter(testloader)\n",
    "images, labels = next(dataiter)\n",
    "\n",
    "imshow(torchvision.utils.make_grid(images))\n",
    "print('GroundTruth: ', ' '.join(f'{classes[labels[j]]:5s}' for j in range(4)))\n",
    "\n",
    "reloaded_model = Net()\n",
    "reloaded_model.load_state_dict(torch.load(PATH))\n",
    "\n",
    "outputs = reloaded_model(images)\n",
    "\n",
    "_, predicted = torch.max(outputs, 1)\n",
    "\n",
    "print('Predicted: ', ' '.join(f'{classes[predicted[j]]:5s}' for j in range(4)))\n",
    "\n",
    "test(reloaded_model)"
   ]
  }
 ],
 "metadata": {
  "kernelspec": {
   "display_name": "Python 3",
   "language": "python",
   "name": "python3"
  },
  "language_info": {
   "codemirror_mode": {
    "name": "ipython",
    "version": 3
   },
   "file_extension": ".py",
   "mimetype": "text/x-python",
   "name": "python",
   "nbconvert_exporter": "python",
   "pygments_lexer": "ipython3",
   "version": "3.10.11"
  }
 },
 "nbformat": 4,
 "nbformat_minor": 4
}
